{
  "nbformat": 4,
  "nbformat_minor": 0,
  "metadata": {
    "colab": {
      "provenance": []
    },
    "kernelspec": {
      "name": "python3",
      "display_name": "Python 3"
    },
    "accelerator": "GPU"
  },
  "cells": [
    {
      "cell_type": "markdown",
      "metadata": {
        "id": "_QvY4aAKOG9-"
      },
      "source": [
        "ここでは，**再帰型ニューラルネットワーク** (Recurrent Neural Network：以下、RNN) を実装し，動かしてみましょう．"
      ]
    },
    {
      "cell_type": "markdown",
      "metadata": {
        "id": "tjr8fzHCPQnT"
      },
      "source": [
        "例として，姓を入力にして，どの言語かに分類し，\n",
        "任意の姓を予測するタスクを解きましょう．"
      ]
    },
    {
      "cell_type": "markdown",
      "metadata": {
        "id": "T5Pdrn5bPo8G"
      },
      "source": [
        "### data"
      ]
    },
    {
      "cell_type": "code",
      "metadata": {
        "id": "vWCxD-d_eTJq"
      },
      "source": [
        "!wget data.zip https://download.pytorch.org/tutorial/data.zip\n",
        "!unzip data.zip"
      ],
      "execution_count": null,
      "outputs": []
    },
    {
      "cell_type": "code",
      "metadata": {
        "id": "Sp2HYCYRR0XE"
      },
      "source": [
        "import os\n",
        "import unicodedata\n",
        "import string\n",
        "import torch"
      ],
      "execution_count": null,
      "outputs": []
    },
    {
      "cell_type": "code",
      "metadata": {
        "id": "ifkp9bN6Py1O"
      },
      "source": [
        "# file確認\n",
        "data_path = 'data/names/'\n",
        "files = os.listdir(data_path)\n",
        "print(files)\n",
        "\n",
        "# 文字コードの変更, thanks to https://stackoverflow.com/a/518232/2809427\n",
        "all_letters = string.ascii_letters + \" .,;'\"\n",
        "n_letters = len(all_letters)\n",
        "\n",
        "def unicodeToAscii(s):\n",
        "    return ''.join(\n",
        "        c for c in unicodedata.normalize('NFD', s)\n",
        "        if unicodedata.category(c) != 'Mn'\n",
        "        and c in all_letters\n",
        "    )\n",
        "\n",
        "# sample \n",
        "print(unicodeToAscii('Ślusàrski'))"
      ],
      "execution_count": null,
      "outputs": []
    },
    {
      "cell_type": "code",
      "metadata": {
        "id": "1DgJpikAR-y6"
      },
      "source": [
        "# 辞書の作成\n",
        "category_lines = {}\n",
        "all_categories = []\n",
        "\n",
        "def readLines(filename):\n",
        "    lines = open(filename, encoding='utf-8').read().strip().split('\\n')\n",
        "    return [unicodeToAscii(line) for line in lines]\n",
        "\n",
        "for filename in files:\n",
        "    category = os.path.splitext(os.path.basename(data_path + filename))[0]\n",
        "    all_categories.append(category)\n",
        "\n",
        "    lines = readLines(data_path + filename)\n",
        "    category_lines[category] = lines\n",
        " \n",
        "n_categories = len(all_categories)\n",
        "\n",
        "# sample\n",
        "print(all_categories[0])\n",
        "print(category_lines['Arabic'][0])"
      ],
      "execution_count": null,
      "outputs": []
    },
    {
      "cell_type": "code",
      "metadata": {
        "id": "G3lDDjGjQ_3E"
      },
      "source": [
        "# one-hotベクトル表現 (a-zA-Z&記号)\n",
        "def letterToIndex(letter):\n",
        "    return all_letters.find(letter)\n",
        "\n",
        "# 1字 to one-hot \n",
        "def letterToTensor(letter):\n",
        "    tensor = torch.zeros(1, n_letters)\n",
        "    tensor[0][letterToIndex(letter)] = 1\n",
        "    return tensor\n",
        "\n",
        "# 文字 to one-hot\n",
        "def lineToTensor(line):\n",
        "    tensor = torch.zeros(len(line), 1, n_letters)\n",
        "    for li, letter in enumerate(line):\n",
        "        tensor[li][0][letterToIndex(letter)] = 1\n",
        "    return tensor\n",
        "\n",
        "# sample\n",
        "print(letterToTensor('J'))\n",
        "print(lineToTensor('Jones').size())"
      ],
      "execution_count": null,
      "outputs": []
    },
    {
      "cell_type": "code",
      "metadata": {
        "id": "k6gShq6BWjya"
      },
      "source": [
        "# トレーニングデータ作成関数\n",
        "import random\n",
        "\n",
        "def randomChoice(l):\n",
        "    return l[random.randint(0, len(l) - 1)]\n",
        "\n",
        "def randomTrainingExample():\n",
        "    category = randomChoice(all_categories)\n",
        "    line = randomChoice(category_lines[category])\n",
        "    \n",
        "    category_tensor = torch.tensor([all_categories.index(category)], dtype=torch.long)\n",
        "    line_tensor = lineToTensor(line)\n",
        "    return category, line, category_tensor, line_tensor\n",
        "\n",
        "# sample \n",
        "for i in range(5):\n",
        "    category, line, category_tensor, line_tensor = randomTrainingExample()\n",
        "    print('category: ', category, '   name: ', line)"
      ],
      "execution_count": null,
      "outputs": []
    },
    {
      "cell_type": "markdown",
      "metadata": {
        "id": "PTmJnEc6TwDj"
      },
      "source": [
        "### model  \n",
        "[画像](https://torch.classcat.com/wp-content/uploads/2018/05/pytorh-intermidiate-tutorials_char_rnn_classif_network.png)を参考に下の構造のネットワークを構築しましょう．\n",
        " \n",
        "```\n",
        "RNN(  \n",
        "  (i2h): Linear(in_features=185, out_features=128, bias=True)  \n",
        "  (i2o): Linear(in_features=185, out_features=18, bias=True)  \n",
        "  (softmax): LogSoftmax(dim=1)  \n",
        ")  \n",
        "```"
      ]
    },
    {
      "cell_type": "code",
      "metadata": {
        "id": "6Lvakk8HTTkV"
      },
      "source": [
        "import torch.nn as nn\n",
        "import torch.optim as optim\n",
        " \n",
        "class RNN(nn.Module):\n",
        "    def __init__(self, input_size, hidden_size, output_size):\n",
        "        super(RNN, self).__init__()\n",
        " \n",
        "        self.hidden_size = hidden_size\n",
        " \n",
        "        self.i2h = nn.Linear(in_features=185, out_features=128, bias=True)  \n",
        "        self.i2o = nn.Linear(in_features=185, out_features=18, bias=True)  \n",
        "        self.softmax = nn.LogSoftmax(dim=1)\n",
        " \n",
        "    def forward(self, input, hidden):\n",
        "        combined = torch.cat((input, hidden), 1)\n",
        "        hidden = self.i2h(combined)\n",
        "        output = self.i2o(combined)\n",
        "        output = self.softmax(output)\n",
        "        return output, hidden\n",
        " \n",
        "    def initHidden(self):\n",
        "        return torch.zeros(1, self.hidden_size)"
      ],
      "execution_count": null,
      "outputs": []
    },
    {
      "cell_type": "code",
      "metadata": {
        "id": "D9tEBoILUqHR"
      },
      "source": [
        "hidden_size = 128\n",
        "input_size = n_letters\n",
        "output_size = n_categories\n",
        "rnn = RNN(input_size, hidden_size, output_size)\n",
        "\n",
        "\n",
        "\n",
        "# sample\n",
        "samp_input = lineToTensor('Albert')\n",
        "samp_hidden = torch.zeros(1, hidden_size)\n",
        " \n",
        "samp_output, sampnext_hidden = rnn(samp_input[0], samp_hidden)\n",
        "print(samp_output)"
      ],
      "execution_count": null,
      "outputs": []
    },
    {
      "cell_type": "code",
      "metadata": {
        "id": "uCETSPC_UtIQ"
      },
      "source": [
        "## 結果を見やすくするための関数\n",
        "def categoryFromOutput(output):\n",
        "    top_n, top_i = output.topk(1)\n",
        "    category_i = top_i[0].item()\n",
        "    return all_categories[category_i], category_i\n",
        "\n",
        "#sample\n",
        "print(categoryFromOutput(samp_output))"
      ],
      "execution_count": null,
      "outputs": []
    },
    {
      "cell_type": "markdown",
      "metadata": {
        "id": "YjzXgumpVmaa"
      },
      "source": [
        "### 学習"
      ]
    },
    {
      "cell_type": "code",
      "metadata": {
        "id": "bmqX8xcXV0hX"
      },
      "source": [
        "loss_function = nn.NLLLoss()\n",
        "optimizer = optim.Adam(rnn.parameters(), lr=0.001)\n",
        "\n",
        "def train(category_tensor, line_tensor):\n",
        "    hidden = rnn.initHidden()\n",
        " \n",
        "    rnn.zero_grad()\n",
        " \n",
        "    for i in range(line_tensor.size()[0]):\n",
        "        output, hidden = rnn(line_tensor[i], hidden)#????\n",
        " \n",
        "    loss = loss_function(output, category_tensor)\n",
        "    \n",
        "    loss.backward()\n",
        "    optimizer.step()\n",
        "\n",
        "    return output, loss.item()"
      ],
      "execution_count": null,
      "outputs": []
    },
    {
      "cell_type": "code",
      "metadata": {
        "id": "fjtnt0w4VFuZ"
      },
      "source": [
        "print"
      ],
      "execution_count": null,
      "outputs": []
    },
    {
      "cell_type": "code",
      "metadata": {
        "id": "1xqfDDiYYZ4y"
      },
      "source": [
        "n_iters = 100000\n",
        "  \n",
        "losses = []\n",
        " \n",
        "for iter in range(1, n_iters + 1):\n",
        "    category, line, category_tensor, line_tensor = randomTrainingExample()\n",
        "    output, loss = train(category_tensor, line_tensor)\n",
        " \n",
        "    # Print iter number, loss, name and guess\n",
        "    if iter % 5000 == 0:\n",
        "        guess, guess_i = categoryFromOutput(output)\n",
        "        correct = 'O' if guess == category else 'X (%s)' % category\n",
        "        print('Iteration: %d   Loss: %.4f   Name/estimated: %s / %s   correct:%s' % (iter, loss, line, guess, correct))\n",
        "    if iter % 500 == 0:\n",
        "        losses.append(loss)"
      ],
      "execution_count": null,
      "outputs": []
    },
    {
      "cell_type": "code",
      "metadata": {
        "id": "BbI1pxcFYiKg"
      },
      "source": [
        "## 結果の確認\n",
        "import matplotlib.pyplot as plt\n",
        " \n",
        "plt.figure()\n",
        "plt.plot(losses)"
      ],
      "execution_count": null,
      "outputs": []
    },
    {
      "cell_type": "markdown",
      "metadata": {
        "id": "Qj0Ei6CdgdFZ"
      },
      "source": [
        "### 予測"
      ]
    },
    {
      "cell_type": "code",
      "metadata": {
        "id": "t1dY4Z3pf3lH"
      },
      "source": [
        "# 上位3個までの任意の姓の予測関数\n",
        "def predict(input_line, n_predictions=3):\n",
        "    print('\\n> %s' % input_line)\n",
        "\n",
        "    with torch.no_grad():\n",
        "        hidden = rnn.initHidden()\n",
        "        for i in range(lineToTensor(input_line).size()[0]):\n",
        "            output, hidden = rnn(lineToTensor(input_line)[i], hidden)#????\n",
        "\n",
        "        topv, topi = output.topk(n_predictions, 1, True)\n",
        " \n",
        "        for i in range(n_predictions):\n",
        "            value = topv[0][i].item()\n",
        "            category_index = topi[0][i].item()\n",
        "            print('(%.2f) %s' % (value, all_categories[category_index]))"
      ],
      "execution_count": null,
      "outputs": []
    },
    {
      "cell_type": "code",
      "metadata": {
        "id": "KSO0BX5thYLj"
      },
      "source": [
        "## 任意の姓を入力しましょう\n",
        "predict('michael')\n",
        "predict('abcd')"
      ],
      "execution_count": null,
      "outputs": []
    }
  ]
}